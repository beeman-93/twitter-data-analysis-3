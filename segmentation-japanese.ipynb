{
 "cells": [
  {
   "cell_type": "code",
   "execution_count": 1,
   "id": "e868b903",
   "metadata": {},
   "outputs": [],
   "source": [
    "## Preprocessing and segmentation on Japanese tweets \n",
    "# We use library nagisa to parse and tag on Japanese language "
   ]
  },
  {
   "cell_type": "code",
   "execution_count": 3,
   "id": "6a4b5b4e",
   "metadata": {},
   "outputs": [],
   "source": [
    "import pandas as pd\n",
    "import nagisa\n",
    "import re"
   ]
  },
  {
   "cell_type": "code",
   "execution_count": 4,
   "id": "ae6b510c",
   "metadata": {},
   "outputs": [],
   "source": [
    "# Read the CSV file\n",
    "df=pd.read_csv('preprocess1.csv')\n",
    "#df.head()"
   ]
  },
  {
   "cell_type": "code",
   "execution_count": 5,
   "id": "56034326",
   "metadata": {},
   "outputs": [
    {
     "name": "stderr",
     "output_type": "stream",
     "text": [
      "/var/folders/lv/fc005q_d2fx0299s750b5vw00000gn/T/ipykernel_3236/4145717699.py:2: FutureWarning: The default value of regex will change from True to False in a future version.\n",
      "  df['Round1']=df['Tweet_no_http'].str.replace('[^\\w\\s#@/:%.,_-]', '', flags=re.UNICODE)\n"
     ]
    }
   ],
   "source": [
    "# Round1: Remove the emoji\n",
    "df['Round1']=df['Tweet_no_http'].str.replace('[^\\w\\s#@/:%.,_-]', '', flags=re.UNICODE)"
   ]
  },
  {
   "cell_type": "code",
   "execution_count": 6,
   "id": "ad390b47",
   "metadata": {},
   "outputs": [
    {
     "name": "stderr",
     "output_type": "stream",
     "text": [
      "/var/folders/lv/fc005q_d2fx0299s750b5vw00000gn/T/ipykernel_3236/588299801.py:2: FutureWarning: The default value of regex will change from True to False in a future version.\n",
      "  df['Round2']=df['Round1'].str.replace('[^\\w\\s]','')\n"
     ]
    }
   ],
   "source": [
    "# Round2: Remove punctuation: \",\" , \"'\", \"...\"\n",
    "df['Round2']=df['Round1'].str.replace('[^\\w\\s]','')\n",
    "#print(df['Round2'])"
   ]
  },
  {
   "cell_type": "code",
   "execution_count": 7,
   "id": "3deebb3f",
   "metadata": {},
   "outputs": [],
   "source": [
    "# Takes in a document, returns the list of words\n",
    "def tokenize_jp(doc, filter_postags=['助詞', '補助記号', '助動詞']):\n",
    "    doc = nagisa.tagging(doc)\n",
    "    return doc.words"
   ]
  },
  {
   "cell_type": "code",
   "execution_count": 8,
   "id": "0d0e1451",
   "metadata": {},
   "outputs": [],
   "source": [
    "# Stopwords list in Japanese\n",
    "stopwords = [\"あそこ\",\"あっ\",\"あの\",\"あのかた\",\"あの人\",\"あり\",\"あります\",\"ある\",\"あれ\",\"い\",\"いう\",\"います\",\"いる\",\"う\",\"うち\",\"え\",\"お\",\"および\",\"おり\",\"おります\",\"か\",\"かつて\",\"から\",\"が\",\"き\",\"ここ\",\"こちら\",\"こと\",\"この\",\"これ\",\"これら\",\"さ\",\"さらに\",\"し\",\"しかし\",\"する\",\"ず\",\"せ\",\"せる\",\"そこ\",\"そして\",\"その\",\"その他\",\"その後\",\"それ\",\"それぞれ\",\"それで\",\"た\",\"ただし\",\"たち\",\"ため\",\"たり\",\"だ\",\"だっ\",\"だれ\",\"つ\",\"て\",\"で\",\"でき\",\"できる\",\"です\",\"では\",\"でも\",\"と\",\"という\",\"といった\",\"とき\",\"ところ\",\"として\",\"とともに\",\"とも\",\"と共に\",\"どこ\",\"どの\",\"な\",\"ない\",\"なお\",\"なかっ\",\"ながら\",\"なく\",\"なっ\",\"など\",\"なに\",\"なら\",\"なり\",\"なる\",\"なん\",\"に\",\"において\",\"における\",\"について\",\"にて\",\"によって\",\"により\",\"による\",\"に対して\",\"に対する\",\"に関する\",\"の\",\"ので\",\"のみ\",\"は\",\"ば\",\"へ\",\"ほか\",\"ほとんど\",\"ほど\",\"ます\",\"また\",\"または\",\"まで\",\"も\",\"もの\",\"ものの\",\"や\",\"よう\",\"より\",\"ら\",\"られ\",\"られる\",\"れ\",\"れる\",\"を\",\"ん\",\"何\",\"及び\",\"彼\",\"彼女\",\"我々\",\"特に\",\"私\",\"私達\",\"貴方\",\"貴方方\",\"\\n\"]"
   ]
  },
  {
   "cell_type": "code",
   "execution_count": 9,
   "id": "b1038744",
   "metadata": {},
   "outputs": [],
   "source": [
    "# Round 3: Remove stopwords and tokenization\n",
    "join_tokens_list=[]\n",
    "for elements in list(df['Round2']):\n",
    "    tokens=tokenize_jp(elements)\n",
    "    tokens_list=[]\n",
    "    for token in tokens:\n",
    "        if token not in stopwords:\n",
    "            tokens_list.append(token)\n",
    "    join_tokens_list.append(tokens_list)  \n",
    "\n",
    "df['Round3']=join_tokens_list\n"
   ]
  },
  {
   "cell_type": "code",
   "execution_count": 10,
   "id": "2d796177",
   "metadata": {},
   "outputs": [
    {
     "name": "stdout",
     "output_type": "stream",
     "text": [
      "0      [やすみ, やっぱり, ナギ, さん, 置い, 寝よう, 描い, 1, 年, 前, コロナ,...\n",
      "1      [ココ, 最近, 暑, コロナ, 活動, 推し活, 含む, 疲れ, 体調, 崩し, てる, ...\n",
      "2      [選手, 皆, さん, 前半, 戦, 疲れ, 様, でし, AS, 明け, ローテ, 千, ...\n",
      "3      [濃厚, 接触, 者, 明日, 約, 1, 週間, 休み, けど, 結局, コロナ, 感染,...\n",
      "4      [コロナ, 感染, 者, 数, 増え, 濃厚, 接触, 者, 増え, 自宅, 待機, 人, ...\n",
      "                             ...                        \n",
      "195    [母, よ, 盆, 置い, 部屋, 前, よ, 父, よ, コロナ, 患者, 部屋, 出る,...\n",
      "196    [友人, 一昨, 日, コロナ, 陽性, って, 一応, 接触, 自主, 隔離, けど, 自...\n",
      "197    [1, 0, 年, 目, 夏, 一応, 勉強, てる, けど, 代わり映え, なし, 考え,...\n",
      "198    [コロナ, たら, 家族, 仕事場, 迷惑, かけ, ちゃう, どっ, 行き, たく, 怖く...\n",
      "199    [本当, 長野, 旅行, 行こう, 土日, 疲れ, 気味, amp, コロナ, 怖く, 宿,...\n",
      "Name: Round3, Length: 200, dtype: object\n"
     ]
    }
   ],
   "source": [
    "print(df['Round3']) "
   ]
  },
  {
   "cell_type": "code",
   "execution_count": null,
   "id": "f2f4b820",
   "metadata": {},
   "outputs": [],
   "source": []
  }
 ],
 "metadata": {
  "kernelspec": {
   "display_name": "Python 3 (ipykernel)",
   "language": "python",
   "name": "python3"
  },
  "language_info": {
   "codemirror_mode": {
    "name": "ipython",
    "version": 3
   },
   "file_extension": ".py",
   "mimetype": "text/x-python",
   "name": "python",
   "nbconvert_exporter": "python",
   "pygments_lexer": "ipython3",
   "version": "3.8.13"
  }
 },
 "nbformat": 4,
 "nbformat_minor": 5
}
